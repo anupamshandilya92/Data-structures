{
 "cells": [
  {
   "cell_type": "markdown",
   "metadata": {},
   "source": [
    "def traversal(start_vertex, graph):\n",
    "  -- This unified algorithm takes a graph, a start_vertex part of this graph, \n",
    "  -- and performs graph traversal using a queuing structure. \n",
    "  -- The algorithm returns the list of explored_vertices, and a \n",
    "  -- routing table to navigate the graph. \n",
    "\n",
    "    ##First we create either a LIFO or a FIFO\n",
    "    queuing_structure = new_queuing_structure()\n",
    "    ## Add the starting vertex with NULL as parent\n",
    "    queuing_structure.push(start_vertex, NULL)\n",
    "    ## Initialize the output\n",
    "    (current_vertex, parent) = queuing_structure.pop() \n",
    "    \n",
    "    ## Tests whether the current vertex is\n",
    "    ## in the list of explored vertices\n",
    "    if not (current_vertex in explored_vertices): \n",
    "       ## Mark the current_vertex as explored\n",
    "        explored_vertices.push(current_vertex) \n",
    "       \n",
    "       ## Update the routing table accordingly\n",
    "        routing_table[current_vertex] = parent \n",
    "       \n",
    "       ## Examine neighbors of the current vertex\n",
    "        for neighbor in neighbors(graph, current_vertex): \n",
    "    \t   ## We push all unexplored neighbors to the queue\n",
    "            if neighbor not in explored_vertices:              \n",
    "                queuing_structure.push(neighbor, current_vertex) \n",
    "              \n",
    "    return explored_vertices,routing_table\n",
    "    "
   ]
  },
  {
   "cell_type": "markdown",
   "metadata": {},
   "source": [
    "def neighbors(graph, current_vertex):\n",
    "    return graph[current_vertex]"
   ]
  },
  {
   "cell_type": "markdown",
   "metadata": {},
   "source": [
    "#LIFO\n",
    "class queuing_structure:\n",
    "    def __int__(self):\n",
    "        self.elements = []\n",
    "    def push(self, vertex, parent):\n",
    "        self.elements.append((vertex,parent))\n",
    "    def pop(self):\n",
    "        (last_in, parent) = self.elements.pop()\n",
    "        return (last_in, parent)"
   ]
  },
  {
   "cell_type": "markdown",
   "metadata": {},
   "source": [
    "# LIFO Stack\n",
    "\n",
    "LIFO (Last In, First Out) is a stack where the most recent elements are the first ones to be removed from the stack. In the next cell you can see one of the many possible implementations of LIFO using lists. There are two main functions:\n",
    "\n",
    "1. Push: responsable for inserting a new element on the correct position of the stack\n",
    "2. Pop: responsable for removing the correct element from the stack\n"
   ]
  },
  {
   "cell_type": "code",
   "execution_count": 2,
   "metadata": {},
   "outputs": [],
   "source": [
    "LIFO_list = list()\n",
    "\n",
    "def LIFO_push(LIFO_list,element):\n",
    "    LIFO_list.append(element)\n",
    "\n",
    "def LIFO_pop(LIFO_list):\n",
    "    return LIFO_list.pop(-1)"
   ]
  },
  {
   "cell_type": "code",
   "execution_count": 3,
   "metadata": {},
   "outputs": [],
   "source": [
    "def add_to_explored_vertices(explored_vertices,vertex):\n",
    "    explored_vertices.append(vertex)\n",
    "\n",
    "def is_explored(explored_vertices,vertex):\n",
    "    return vertex in list(explored_vertices)\n",
    "    \n",
    "def DFS(maze_graph, initial_vertex) :\n",
    "    \n",
    "    # explored vertices list\n",
    "    explored_vertices = list()\n",
    "    \n",
    "    #LIFO stack\n",
    "    queuing_structure = list()\n",
    "    \n",
    "    #Parent Dictionary\n",
    "    parent_dict = dict()\n",
    "        \n",
    "\n",
    "    LIFO_push(queuing_structure,(initial_vertex,None)) # push the initial vertex to the queuing_structure\n",
    "    while len(queuing_structure) > 0: #   while queuing_structure is not empty:\n",
    "        \n",
    "        current_vertex,parent = LIFO_pop(queuing_structure)\n",
    "       # print(explored_vertices)\n",
    "        if current_vertex not in explored_vertices:\n",
    "            add_to_explored_vertices(explored_vertices,current_vertex)\n",
    "        #    print(explored_vertices)\n",
    "        if current_vertex not in parent_dict.keys():\n",
    "            parent_dict[current_vertex] = parent\n",
    "            \n",
    "        for neighbours in maze_graph[current_vertex].keys():\n",
    "            if not is_explored(explored_vertices,neighbours):\n",
    "                LIFO_push(queuing_structure,(neighbours,current_vertex))\n",
    "    return explored_vertices,parent_dict    \n",
    "###################################################################"
   ]
  },
  {
   "cell_type": "code",
   "execution_count": 4,
   "metadata": {},
   "outputs": [
    {
     "name": "stdout",
     "output_type": "stream",
     "text": [
      "Explored vertices order: [(0, 0), (1, 0), (1, 1), (1, 2), (0, 2), (0, 1)]\n",
      "Vertex None is the parent of vertex (0, 0)\n",
      "Vertex (0, 2) is the parent of vertex (0, 1)\n",
      "Vertex (1, 2) is the parent of vertex (0, 2)\n",
      "Vertex (0, 0) is the parent of vertex (1, 0)\n",
      "Vertex (1, 0) is the parent of vertex (1, 1)\n",
      "Vertex (1, 1) is the parent of vertex (1, 2)\n"
     ]
    }
   ],
   "source": [
    "from operator import itemgetter\n",
    "#\n",
    "# AUTOGRADER TEST - DO NOT REMOVE\n",
    "#\n",
    "\n",
    "\n",
    "maze_graph = {\n",
    "    (0,0): {(0,1):1,(1,0):1}, \n",
    "    (0,1): {(0,2):1,(0,0):1},\n",
    "    (1,0): {(1,1):1,(0,0):1},\n",
    "    (1,1): {(1,2):1,(1,0):1},\n",
    "    (0,2): {(0,1):1,(1,2):1},\n",
    "    (1,2): {(0,2):1,(1,1):1}\n",
    "}\n",
    "explored_vertices,parent_dict = DFS(maze_graph, (0,0))\n",
    "print(\"Explored vertices order: {}\".format(explored_vertices))\n",
    "for vertex,parent in sorted(parent_dict.items(),key=itemgetter(0,0)):\n",
    "    print(\"Vertex {} is the parent of vertex {}\".format(parent,vertex))"
   ]
  },
  {
   "cell_type": "markdown",
   "metadata": {},
   "source": [
    "## FIFO queue\n",
    "\n",
    "FIFO (First In, First Out) is a queue where the oldest elements of the queue are the first ones to be removed. This type of queue has various applications including the Breadth-First search that we will code next.\n",
    "\n"
   ]
  },
  {
   "cell_type": "code",
   "execution_count": 5,
   "metadata": {},
   "outputs": [],
   "source": [
    "FIFO_list = list()\n",
    "\n",
    "def FIFO_push(FIFO_list,element):\n",
    "    FIFO_list.append(element)\n",
    "\n",
    "def FIFO_pop(FIFO_list):\n",
    "    FIFO_list.pop(0)\n"
   ]
  },
  {
   "cell_type": "markdown",
   "metadata": {},
   "source": [
    "## Breadth-first search (BFS)\n",
    "\n",
    "Breadth-First search is another traversal/search algorithm for trees and graphs that unlike DFS tries to explore all the vertices at the present \"depth\" before going deeper in the data structure. \n",
    "\n"
   ]
  },
  {
   "cell_type": "code",
   "execution_count": 6,
   "metadata": {},
   "outputs": [],
   "source": [
    "def BFS(maze_graph, initial_vertex) :\n",
    "    \n",
    "    # explored vertices list\n",
    "    explored_vertices = list()\n",
    "    \n",
    "    #LIFO stack\n",
    "    queuing_structure = list()\n",
    "    \n",
    "    #Parent Dictionary\n",
    "    parent_dict = dict()\n",
    "        \n",
    "\n",
    "    FIFO_push(queuing_structure,(initial_vertex,None)) # push the initial vertex to the queuing_structure\n",
    "    #LIFO_push(queuing_structure,(initial_vertex,None)) # push the initial vertex to the queuing_structure\n",
    "    while len(queuing_structure) > 0: #   while queuing_structure is not empty:\n",
    "        \n",
    "        current_vertex,parent = LIFO_pop(queuing_structure)\n",
    "       # print(explored_vertices)\n",
    "        if current_vertex not in explored_vertices:\n",
    "            add_to_explored_vertices(explored_vertices,current_vertex)\n",
    "        #    print(explored_vertices)\n",
    "        if current_vertex not in parent_dict.keys():\n",
    "            parent_dict[current_vertex] = parent\n",
    "            \n",
    "        for neighbours in maze_graph[current_vertex].keys():\n",
    "            if not is_explored(explored_vertices,neighbours):\n",
    "                FIFO_push(queuing_structure,(neighbours,current_vertex))\n",
    "    return explored_vertices,parent_dict       \n",
    "###################################################################"
   ]
  },
  {
   "cell_type": "code",
   "execution_count": 7,
   "metadata": {},
   "outputs": [
    {
     "name": "stdout",
     "output_type": "stream",
     "text": [
      "explored vertices order: [(0, 0), (1, 0), (1, 1), (1, 2), (0, 2), (0, 1)]\n",
      "vertex None is the parent of vertex (0, 0)\n",
      "vertex (0, 2) is the parent of vertex (0, 1)\n",
      "vertex (1, 2) is the parent of vertex (0, 2)\n",
      "vertex (0, 0) is the parent of vertex (1, 0)\n",
      "vertex (1, 0) is the parent of vertex (1, 1)\n",
      "vertex (1, 1) is the parent of vertex (1, 2)\n"
     ]
    }
   ],
   "source": [
    "\n",
    "maze_graph = {\n",
    "    (0,0): {(0,1):1,(1,0):1}, \n",
    "    (0,1): {(0,2):1,(0,0):1},\n",
    "    (1,0): {(1,1):1,(0,0):1},\n",
    "    (1,1): {(1,2):1,(1,0):1},\n",
    "    (0,2): {(0,1):1,(1,2):1},\n",
    "    (1,2): {(0,2):1,(1,1):1}\n",
    "}\n",
    "\n",
    "explored_vertices,parent_dict = BFS(maze_graph, (0,0))\n",
    "print(\"explored vertices order: {}\".format(explored_vertices))\n",
    "for vertex,parent in sorted(parent_dict.items(),key=itemgetter(0,0)):\n",
    "    print(\"vertex {} is the parent of vertex {}\".format(parent,vertex))"
   ]
  },
  {
   "cell_type": "code",
   "execution_count": 8,
   "metadata": {},
   "outputs": [
    {
     "data": {
      "text/plain": [
       "{(0, 0): None,\n",
       " (1, 0): (0, 0),\n",
       " (1, 1): (1, 0),\n",
       " (1, 2): (1, 1),\n",
       " (0, 2): (1, 2),\n",
       " (0, 1): (0, 2)}"
      ]
     },
     "execution_count": 8,
     "metadata": {},
     "output_type": "execute_result"
    }
   ],
   "source": [
    "parent_dict"
   ]
  },
  {
   "cell_type": "markdown",
   "metadata": {},
   "source": [
    "Function to create walk from intial to target vertex"
   ]
  },
  {
   "cell_type": "code",
   "execution_count": 9,
   "metadata": {},
   "outputs": [],
   "source": [
    "def create_walk_from_parents(parent_dict,initial_vertex,target_vertex):\n",
    "    #\n",
    "    # YOUR CODE HERE\n",
    "    #\n",
    "     #\n",
    "    # YOUR CODE HERE\n",
    "    #\n",
    "    retVal1 = []\n",
    "    \n",
    "    # Start with target_vertex\n",
    "    current_vertex = target_vertex\n",
    "\n",
    "    # Stop if initial_vertex is found\n",
    "    while (current_vertex != initial_vertex):\n",
    "        retVal1.append(current_vertex)\n",
    "        current_vertex = parent_dict[current_vertex]    \n",
    "    \n",
    "    # Return reversed list as we started from target\n",
    "    retVal1.reverse()\n",
    "    \n",
    "    return retVal1"
   ]
  },
  {
   "cell_type": "code",
   "execution_count": 10,
   "metadata": {},
   "outputs": [
    {
     "name": "stdout",
     "output_type": "stream",
     "text": [
      "The route to go from vertex (0, 0) to (0, 0) is: []\n",
      "The route to go from vertex (0, 0) to (0, 2) is: [(1, 0), (1, 1), (1, 2), (0, 2)]\n"
     ]
    }
   ],
   "source": [
    "#\n",
    "# AUTOGRADER TEST - DO NOT REMOVE\n",
    "#\n",
    "\n",
    "initial_vertex = (0,0)\n",
    "target_vertex = (0,0)\n",
    "explored_vertices,parent_dict = DFS(maze_graph,initial_vertex)\n",
    "route = create_walk_from_parents(parent_dict,initial_vertex,target_vertex)\n",
    "print(\"The route to go from vertex {} to {} is: {}\".format(initial_vertex,target_vertex,route))\n",
    "\n",
    "\n",
    "initial_vertex = (0,0)\n",
    "target_vertex = (0,2)\n",
    "explored_vertices,parent_dict = DFS(maze_graph,initial_vertex)\n",
    "route = create_walk_from_parents(parent_dict,initial_vertex,target_vertex)\n",
    "print(\"The route to go from vertex {} to {} is: {}\".format(initial_vertex,target_vertex,route))"
   ]
  },
  {
   "cell_type": "code",
   "execution_count": null,
   "metadata": {},
   "outputs": [],
   "source": []
  }
 ],
 "metadata": {
  "kernelspec": {
   "display_name": "Python 3",
   "language": "python",
   "name": "python3"
  },
  "language_info": {
   "codemirror_mode": {
    "name": "ipython",
    "version": 3
   },
   "file_extension": ".py",
   "mimetype": "text/x-python",
   "name": "python",
   "nbconvert_exporter": "python",
   "pygments_lexer": "ipython3",
   "version": "3.7.4"
  }
 },
 "nbformat": 4,
 "nbformat_minor": 2
}
